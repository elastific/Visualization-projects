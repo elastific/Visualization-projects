{
 "cells": [
  {
   "cell_type": "code",
   "execution_count": 2,
   "metadata": {},
   "outputs": [],
   "source": [
    "import os\n",
    "import requests\n",
    "import json\n",
    "cwd = os.getcwd()\n",
    "\n",
    "import matplotlib.pyplot as plt\n",
    "from matplotlib import rcParams\n",
    "import matplotlib as mpl\n",
    "import seaborn as sb\n",
    "import numpy as np\n",
    "import pandas as pd\n",
    "from pandas import Series\n",
    "import zipfile\n",
    "from bs4 import BeautifulSoup\n",
    "import re\n",
    "from IPython.display import Image\n",
    "from IPython.core.display import HTML \n",
    "from pandas import DataFrame, Panel\n",
    "\n",
    "%matplotlib inline\n",
    "%config InlineBackend.figure_format = 'retina'\n",
    "rcParams['figure.figsize'] = 10, 10\n",
    "sb.set_style('whitegrid')\n",
    "\n",
    "\n",
    "pd.set_option('display.height', 1000)\n",
    "pd.set_option('display.max_rows', 1000)\n",
    "pd.set_option('display.max_columns', 500)\n",
    "pd.set_option('display.width', 1000)\n",
    "\n",
    "pd.set_option('display.max_rows',15) # this limit maximum numbers of rows"
   ]
  },
  {
   "cell_type": "markdown",
   "metadata": {},
   "source": [
    "with zipfile.ZipFile(\"pisa2012.csv.zip\",\"r\") as myzip:\n",
    "    myzip.extractall(\"pisa2012\")"
   ]
  },
  {
   "cell_type": "markdown",
   "metadata": {},
   "source": [
    "dataframe = pd.read_csv(cwd + '/pisa2012/pisa2012.csv', encoding = 'utf-8', low_memory=False)"
   ]
  },
  {
   "cell_type": "markdown",
   "metadata": {},
   "source": [
    "dataframe.head()"
   ]
  },
  {
   "cell_type": "markdown",
   "metadata": {},
   "source": [
    "df=dataframe.copy()"
   ]
  },
  {
   "cell_type": "markdown",
   "metadata": {},
   "source": [
    " %reset dataframe"
   ]
  },
  {
   "cell_type": "code",
   "execution_count": 15,
   "metadata": {},
   "outputs": [
    {
     "data": {
      "text/html": [
       "<div>\n",
       "<style scoped>\n",
       "    .dataframe tbody tr th:only-of-type {\n",
       "        vertical-align: middle;\n",
       "    }\n",
       "\n",
       "    .dataframe tbody tr th {\n",
       "        vertical-align: top;\n",
       "    }\n",
       "\n",
       "    .dataframe thead th {\n",
       "        text-align: right;\n",
       "    }\n",
       "</style>\n",
       "<table border=\"1\" class=\"dataframe\">\n",
       "  <thead>\n",
       "    <tr style=\"text-align: right;\">\n",
       "      <th></th>\n",
       "      <th>ST57Q02</th>\n",
       "      <th>ST57Q03</th>\n",
       "      <th>ST57Q04</th>\n",
       "    </tr>\n",
       "  </thead>\n",
       "  <tbody>\n",
       "    <tr>\n",
       "      <th>count</th>\n",
       "      <td>269808.000000</td>\n",
       "      <td>283813.000000</td>\n",
       "      <td>279657.000000</td>\n",
       "    </tr>\n",
       "    <tr>\n",
       "      <th>mean</th>\n",
       "      <td>1.623629</td>\n",
       "      <td>0.954044</td>\n",
       "      <td>0.911821</td>\n",
       "    </tr>\n",
       "    <tr>\n",
       "      <th>std</th>\n",
       "      <td>2.591569</td>\n",
       "      <td>2.162574</td>\n",
       "      <td>2.362377</td>\n",
       "    </tr>\n",
       "    <tr>\n",
       "      <th>min</th>\n",
       "      <td>0.000000</td>\n",
       "      <td>0.000000</td>\n",
       "      <td>0.000000</td>\n",
       "    </tr>\n",
       "    <tr>\n",
       "      <th>25%</th>\n",
       "      <td>0.000000</td>\n",
       "      <td>0.000000</td>\n",
       "      <td>0.000000</td>\n",
       "    </tr>\n",
       "    <tr>\n",
       "      <th>50%</th>\n",
       "      <td>1.000000</td>\n",
       "      <td>0.000000</td>\n",
       "      <td>0.000000</td>\n",
       "    </tr>\n",
       "    <tr>\n",
       "      <th>75%</th>\n",
       "      <td>2.000000</td>\n",
       "      <td>1.000000</td>\n",
       "      <td>1.000000</td>\n",
       "    </tr>\n",
       "    <tr>\n",
       "      <th>max</th>\n",
       "      <td>30.000000</td>\n",
       "      <td>30.000000</td>\n",
       "      <td>30.000000</td>\n",
       "    </tr>\n",
       "  </tbody>\n",
       "</table>\n",
       "</div>"
      ],
      "text/plain": [
       "             ST57Q02        ST57Q03        ST57Q04\n",
       "count  269808.000000  283813.000000  279657.000000\n",
       "mean        1.623629       0.954044       0.911821\n",
       "std         2.591569       2.162574       2.362377\n",
       "min         0.000000       0.000000       0.000000\n",
       "25%         0.000000       0.000000       0.000000\n",
       "50%         1.000000       0.000000       0.000000\n",
       "75%         2.000000       1.000000       1.000000\n",
       "max        30.000000      30.000000      30.000000"
      ]
     },
     "execution_count": 15,
     "metadata": {},
     "output_type": "execute_result"
    }
   ],
   "source": [
    "df[['ST57Q02','ST57Q03', 'ST57Q04']].describe()"
   ]
  },
  {
   "cell_type": "markdown",
   "metadata": {},
   "source": [
    "## Question 1"
   ]
  },
  {
   "cell_type": "markdown",
   "metadata": {},
   "source": [
    "Filter those with Comercial company help and those with Personal tutor"
   ]
  },
  {
   "cell_type": "code",
   "execution_count": 24,
   "metadata": {},
   "outputs": [
    {
     "data": {
      "text/plain": [
       "count    485490.000000\n",
       "mean        472.004640\n",
       "std         102.505523\n",
       "min           0.083400\n",
       "25%         403.600700\n",
       "50%         475.455000\n",
       "75%         544.502500\n",
       "max         904.802600\n",
       "Name: PV1READ, dtype: float64"
      ]
     },
     "execution_count": 24,
     "metadata": {},
     "output_type": "execute_result"
    }
   ],
   "source": [
    "# Plausible value 1 in reading\n",
    "df['PV1READ'].describe()"
   ]
  },
  {
   "cell_type": "code",
   "execution_count": 25,
   "metadata": {},
   "outputs": [
    {
     "data": {
      "text/plain": [
       "count    485490.000000\n",
       "mean        469.621653\n",
       "std         103.265391\n",
       "min          19.792800\n",
       "25%         395.318600\n",
       "50%         466.201900\n",
       "75%         541.057800\n",
       "max         962.229300\n",
       "Name: PV1MATH, dtype: float64"
      ]
     },
     "execution_count": 25,
     "metadata": {},
     "output_type": "execute_result"
    }
   ],
   "source": [
    "# Plausible value 1 in mathematics\n",
    "df['PV1MATH'].describe()"
   ]
  },
  {
   "cell_type": "code",
   "execution_count": 23,
   "metadata": {},
   "outputs": [
    {
     "data": {
      "text/plain": [
       "count    485490.000000\n",
       "mean        475.769824\n",
       "std         101.464426\n",
       "min           2.648300\n",
       "25%         404.457300\n",
       "50%         475.699400\n",
       "75%         547.780700\n",
       "max         903.338300\n",
       "Name: PV1SCIE, dtype: float64"
      ]
     },
     "execution_count": 23,
     "metadata": {},
     "output_type": "execute_result"
    }
   ],
   "source": [
    "# Plausible value 1 in science\n",
    "df['PV1SCIE'].describe()"
   ]
  },
  {
   "cell_type": "code",
   "execution_count": 22,
   "metadata": {},
   "outputs": [
    {
     "data": {
      "text/plain": [
       "count    485490.000000\n",
       "mean         50.919113\n",
       "std         107.382092\n",
       "min           1.000000\n",
       "25%           6.386300\n",
       "50%          15.782900\n",
       "75%          44.473300\n",
       "max        2597.884400\n",
       "Name: W_FSTUWT, dtype: float64"
      ]
     },
     "execution_count": 22,
     "metadata": {},
     "output_type": "execute_result"
    }
   ],
   "source": [
    "# FINAL STUDENT WEIGHT\n",
    "df['W_FSTUWT'].describe()"
   ]
  },
  {
   "cell_type": "code",
   "execution_count": null,
   "metadata": {},
   "outputs": [],
   "source": []
  },
  {
   "cell_type": "code",
   "execution_count": 28,
   "metadata": {},
   "outputs": [
    {
     "data": {
      "text/plain": [
       "No     365418\n",
       "Yes     25063\n",
       "Name: ST14Q01, dtype: int64"
      ]
     },
     "execution_count": 28,
     "metadata": {},
     "output_type": "execute_result"
    }
   ],
   "source": [
    "df['ST14Q01'].value_counts()"
   ]
  },
  {
   "cell_type": "code",
   "execution_count": null,
   "metadata": {},
   "outputs": [],
   "source": []
  },
  {
   "cell_type": "code",
   "execution_count": 31,
   "metadata": {},
   "outputs": [
    {
     "data": {
      "text/plain": [
       "<ISCED level 3A>                         236993\n",
       "<ISCED level 3B, 3C>                      83048\n",
       "<ISCED level 2>                           82614\n",
       "<ISCED level 1>                           36556\n",
       "She did not complete <ISCED level 1>      18768\n",
       "Name: ST13Q01, dtype: int64"
      ]
     },
     "execution_count": 31,
     "metadata": {},
     "output_type": "execute_result"
    }
   ],
   "source": [
    "df['ST13Q01'].value_counts()"
   ]
  },
  {
   "cell_type": "code",
   "execution_count": null,
   "metadata": {},
   "outputs": [],
   "source": []
  },
  {
   "cell_type": "code",
   "execution_count": 41,
   "metadata": {},
   "outputs": [
    {
     "data": {
      "text/plain": [
       "82.41    11651\n",
       "76.49     9849\n",
       "68.70     8540\n",
       "76.65     8206\n",
       "28.48     7933\n",
       "43.33     7810\n",
       "35.34     7360\n",
       "         ...  \n",
       "31.34       26\n",
       "31.00       25\n",
       "25.49       23\n",
       "16.08       21\n",
       "22.40       21\n",
       "29.30        8\n",
       "18.29        7\n",
       "Name: HISEI, Length: 419, dtype: int64"
      ]
     },
     "execution_count": 41,
     "metadata": {},
     "output_type": "execute_result"
    }
   ],
   "source": [
    "# Highest parental occupational status\n",
    "df['HISEI'].value_counts()"
   ]
  },
  {
   "cell_type": "code",
   "execution_count": 33,
   "metadata": {
    "scrolled": true
   },
   "outputs": [
    {
     "data": {
      "text/plain": [
       "count    450621.000000\n",
       "mean         48.923298\n",
       "std          22.120953\n",
       "min          11.010000\n",
       "25%          28.520000\n",
       "50%          48.820000\n",
       "75%          70.340000\n",
       "max          88.960000\n",
       "Name: HISEI, dtype: float64"
      ]
     },
     "execution_count": 33,
     "metadata": {},
     "output_type": "execute_result"
    }
   ],
   "source": [
    "# Highest parental occupational status\n",
    "df['HISEI'].describe()"
   ]
  },
  {
   "cell_type": "code",
   "execution_count": 35,
   "metadata": {},
   "outputs": [
    {
     "data": {
      "text/plain": [
       "ISCED 3A, ISCED 4    118890\n",
       "ISCED 5A, 6          113406\n",
       "ISCED 2               66728\n",
       "ISCED 5B              61617\n",
       "ISCED 3B, C           39789\n",
       "ISCED 1               35938\n",
       "None                  16535\n",
       "Name: FISCED, dtype: int64"
      ]
     },
     "execution_count": 35,
     "metadata": {},
     "output_type": "execute_result"
    }
   ],
   "source": [
    "# Educational level of father (ISCED)\n",
    "df['FISCED'].value_counts()"
   ]
  },
  {
   "cell_type": "code",
   "execution_count": 36,
   "metadata": {},
   "outputs": [
    {
     "data": {
      "text/plain": [
       "ISCED 3A, ISCED 4    126768\n",
       "ISCED 5A, 6          114452\n",
       "ISCED 5B              68219\n",
       "ISCED 2               66650\n",
       "ISCED 1               36556\n",
       "ISCED 3B, C           35672\n",
       "None                  18768\n",
       "Name: MISCED, dtype: int64"
      ]
     },
     "execution_count": 36,
     "metadata": {},
     "output_type": "execute_result"
    }
   ],
   "source": [
    "# Educational level of mother (ISCED)\n",
    "df['MISCED'].value_counts()"
   ]
  },
  {
   "cell_type": "code",
   "execution_count": 48,
   "metadata": {},
   "outputs": [
    {
     "data": {
      "text/plain": [
       "Native               417347\n",
       "Second-Generation     28268\n",
       "First-Generation      26178\n",
       "Name: IMMIG, dtype: int64"
      ]
     },
     "execution_count": 48,
     "metadata": {},
     "output_type": "execute_result"
    }
   ],
   "source": [
    "# Immigration status\n",
    "df['IMMIG'].value_counts()"
   ]
  },
  {
   "cell_type": "code",
   "execution_count": null,
   "metadata": {},
   "outputs": [],
   "source": []
  },
  {
   "cell_type": "code",
   "execution_count": 51,
   "metadata": {},
   "outputs": [
    {
     "data": {
      "text/plain": [
       "-0.11    8390\n",
       " 0.16    6445\n",
       " 0.15    6420\n",
       "-0.36    6277\n",
       " 1.20    5953\n",
       " 0.43    5670\n",
       " 0.31    5578\n",
       "         ... \n",
       " 2.25       1\n",
       "-4.01       1\n",
       " 2.55       1\n",
       "-4.59       1\n",
       " 2.75       1\n",
       " 2.64       1\n",
       "-3.36       1\n",
       "Name: WEALTH, Length: 809, dtype: int64"
      ]
     },
     "execution_count": 51,
     "metadata": {},
     "output_type": "execute_result"
    }
   ],
   "source": [
    "# WEALTH\n",
    "df['WEALTH'].value_counts()"
   ]
  },
  {
   "cell_type": "code",
   "execution_count": 50,
   "metadata": {},
   "outputs": [
    {
     "data": {
      "text/plain": [
       "count    479597.00000\n",
       "mean         -0.33701\n",
       "std           1.21530\n",
       "min          -6.65000\n",
       "25%          -1.04000\n",
       "50%          -0.30000\n",
       "75%           0.43000\n",
       "max           3.25000\n",
       "Name: WEALTH, dtype: float64"
      ]
     },
     "execution_count": 50,
     "metadata": {},
     "output_type": "execute_result"
    }
   ],
   "source": [
    "df['WEALTH'].describe()"
   ]
  },
  {
   "cell_type": "code",
   "execution_count": null,
   "metadata": {},
   "outputs": [],
   "source": []
  },
  {
   "cell_type": "code",
   "execution_count": 58,
   "metadata": {},
   "outputs": [
    {
     "data": {
      "text/plain": [
       "11651760"
      ]
     },
     "execution_count": 58,
     "metadata": {},
     "output_type": "execute_result"
    }
   ],
   "source": [
    "mydf = df[['CNT', 'OECD', 'STIDSTD', 'ST04Q01', 'ST11Q01', 'ST11Q02',\n",
    "    'ST11Q03', 'ST11Q04', 'ST11Q05', 'ST11Q06', 'MISCED', 'FISCED', 'HISCED',\n",
    "    'HISEI', 'IMMIG', 'ST46Q09', 'WEALTH', 'ST57Q02', 'ST57Q03', 'ST57Q04',\n",
    "    'PV1READ', 'PV1MATH', 'PV1SCIE', 'W_FSTUWT']]\n",
    "mydf.size"
   ]
  },
  {
   "cell_type": "code",
   "execution_count": 173,
   "metadata": {},
   "outputs": [
    {
     "ename": "NameError",
     "evalue": "name 'mydf' is not defined",
     "output_type": "error",
     "traceback": [
      "\u001b[1;31m---------------------------------------------------------------------------\u001b[0m",
      "\u001b[1;31mNameError\u001b[0m                                 Traceback (most recent call last)",
      "\u001b[1;32m<ipython-input-173-81bab17ee2c5>\u001b[0m in \u001b[0;36m<module>\u001b[1;34m()\u001b[0m\n\u001b[1;32m----> 1\u001b[1;33m \u001b[0mdata\u001b[0m \u001b[1;33m=\u001b[0m \u001b[0mmydf\u001b[0m\u001b[1;33m.\u001b[0m\u001b[0mcopy\u001b[0m\u001b[1;33m(\u001b[0m\u001b[1;33m)\u001b[0m\u001b[1;33m\u001b[0m\u001b[0m\n\u001b[0m",
      "\u001b[1;31mNameError\u001b[0m: name 'mydf' is not defined"
     ]
    }
   ],
   "source": [
    "data = mydf.copy()"
   ]
  },
  {
   "cell_type": "code",
   "execution_count": 61,
   "metadata": {
    "scrolled": true
   },
   "outputs": [],
   "source": [
    "data.columns = ['country', 'OECD', 'STIDSTD', \"gender\", \"H_mother\", \"H_father\", \"H_brothers\",\"H_sisters\",\n",
    "              \"H_grandparents\",\"H_others\", \"ed_mother\",\"ed_father\", \"highest_edu\",\"highest_occu\", \"IMMIG\",\"organized\",\n",
    "              \"WEALTH\",\"guided_homework\", \"tutor\",\"commercial_company\", \"read_score\", \"math_score\", \"sci_score\", \"WEIGHT\"]"
   ]
  },
  {
   "cell_type": "code",
   "execution_count": 161,
   "metadata": {},
   "outputs": [
    {
     "data": {
      "text/html": [
       "<div>\n",
       "<style scoped>\n",
       "    .dataframe tbody tr th:only-of-type {\n",
       "        vertical-align: middle;\n",
       "    }\n",
       "\n",
       "    .dataframe tbody tr th {\n",
       "        vertical-align: top;\n",
       "    }\n",
       "\n",
       "    .dataframe thead th {\n",
       "        text-align: right;\n",
       "    }\n",
       "</style>\n",
       "<table border=\"1\" class=\"dataframe\">\n",
       "  <thead>\n",
       "    <tr style=\"text-align: right;\">\n",
       "      <th></th>\n",
       "      <th>record_id</th>\n",
       "      <th>country</th>\n",
       "      <th>OECD</th>\n",
       "      <th>STID</th>\n",
       "      <th>gender</th>\n",
       "      <th>H_mother</th>\n",
       "      <th>H_father</th>\n",
       "      <th>ed_mother</th>\n",
       "      <th>ed_father</th>\n",
       "      <th>highest_edu</th>\n",
       "      <th>highest_occu</th>\n",
       "      <th>IMMIG</th>\n",
       "      <th>WEALTH</th>\n",
       "      <th>guided_omework</th>\n",
       "      <th>tutor</th>\n",
       "      <th>commercial_company</th>\n",
       "      <th>read_score</th>\n",
       "      <th>math_score</th>\n",
       "      <th>sci_score</th>\n",
       "      <th>WEIGHT</th>\n",
       "      <th>readscore</th>\n",
       "      <th>mathscore</th>\n",
       "      <th>sciscore</th>\n",
       "      <th>parent_athome</th>\n",
       "      <th>sibling_athome</th>\n",
       "    </tr>\n",
       "  </thead>\n",
       "  <tbody>\n",
       "    <tr>\n",
       "      <th>0</th>\n",
       "      <td>0</td>\n",
       "      <td>Albania</td>\n",
       "      <td>Non-OECD</td>\n",
       "      <td>1</td>\n",
       "      <td>Female</td>\n",
       "      <td>Yes</td>\n",
       "      <td>Yes</td>\n",
       "      <td>ISCED 3A, ISCED 4</td>\n",
       "      <td>ISCED 3A, ISCED 4</td>\n",
       "      <td>ISCED 3A, ISCED 4</td>\n",
       "      <td>NaN</td>\n",
       "      <td>Native</td>\n",
       "      <td>-2.92</td>\n",
       "      <td>NaN</td>\n",
       "      <td>NaN</td>\n",
       "      <td>NaN</td>\n",
       "      <td>249.5762</td>\n",
       "      <td>406.8469</td>\n",
       "      <td>341.7009</td>\n",
       "      <td>8.9096</td>\n",
       "      <td>2223.624112</td>\n",
       "      <td>3624.843140</td>\n",
       "      <td>3044.418339</td>\n",
       "      <td>True</td>\n",
       "      <td>True</td>\n",
       "    </tr>\n",
       "    <tr>\n",
       "      <th>1</th>\n",
       "      <td>1</td>\n",
       "      <td>Albania</td>\n",
       "      <td>Non-OECD</td>\n",
       "      <td>2</td>\n",
       "      <td>Female</td>\n",
       "      <td>Yes</td>\n",
       "      <td>Yes</td>\n",
       "      <td>ISCED 5A, 6</td>\n",
       "      <td>ISCED 3A, ISCED 4</td>\n",
       "      <td>ISCED 5A, 6</td>\n",
       "      <td>NaN</td>\n",
       "      <td>Native</td>\n",
       "      <td>0.69</td>\n",
       "      <td>NaN</td>\n",
       "      <td>6.0</td>\n",
       "      <td>0.0</td>\n",
       "      <td>406.2936</td>\n",
       "      <td>486.1427</td>\n",
       "      <td>548.9929</td>\n",
       "      <td>8.9096</td>\n",
       "      <td>3619.913459</td>\n",
       "      <td>4331.337000</td>\n",
       "      <td>4891.307142</td>\n",
       "      <td>True</td>\n",
       "      <td>True</td>\n",
       "    </tr>\n",
       "    <tr>\n",
       "      <th>2</th>\n",
       "      <td>2</td>\n",
       "      <td>Albania</td>\n",
       "      <td>Non-OECD</td>\n",
       "      <td>3</td>\n",
       "      <td>Female</td>\n",
       "      <td>Yes</td>\n",
       "      <td>Yes</td>\n",
       "      <td>ISCED 5A, 6</td>\n",
       "      <td>ISCED 5A, 6</td>\n",
       "      <td>ISCED 5A, 6</td>\n",
       "      <td>NaN</td>\n",
       "      <td>Native</td>\n",
       "      <td>-0.23</td>\n",
       "      <td>6.0</td>\n",
       "      <td>6.0</td>\n",
       "      <td>7.0</td>\n",
       "      <td>401.2100</td>\n",
       "      <td>533.2684</td>\n",
       "      <td>499.6643</td>\n",
       "      <td>8.4871</td>\n",
       "      <td>3405.109391</td>\n",
       "      <td>4525.902238</td>\n",
       "      <td>4240.700881</td>\n",
       "      <td>True</td>\n",
       "      <td>True</td>\n",
       "    </tr>\n",
       "    <tr>\n",
       "      <th>3</th>\n",
       "      <td>3</td>\n",
       "      <td>Albania</td>\n",
       "      <td>Non-OECD</td>\n",
       "      <td>4</td>\n",
       "      <td>Female</td>\n",
       "      <td>Yes</td>\n",
       "      <td>Yes</td>\n",
       "      <td>ISCED 3B, C</td>\n",
       "      <td>ISCED 5A, 6</td>\n",
       "      <td>ISCED 5A, 6</td>\n",
       "      <td>NaN</td>\n",
       "      <td>Native</td>\n",
       "      <td>-1.17</td>\n",
       "      <td>2.0</td>\n",
       "      <td>2.0</td>\n",
       "      <td>0.0</td>\n",
       "      <td>547.3630</td>\n",
       "      <td>412.2215</td>\n",
       "      <td>438.6796</td>\n",
       "      <td>8.4871</td>\n",
       "      <td>4645.524517</td>\n",
       "      <td>3498.565093</td>\n",
       "      <td>3723.117633</td>\n",
       "      <td>True</td>\n",
       "      <td>True</td>\n",
       "    </tr>\n",
       "    <tr>\n",
       "      <th>4</th>\n",
       "      <td>4</td>\n",
       "      <td>Albania</td>\n",
       "      <td>Non-OECD</td>\n",
       "      <td>5</td>\n",
       "      <td>Female</td>\n",
       "      <td>Yes</td>\n",
       "      <td>Yes</td>\n",
       "      <td>None</td>\n",
       "      <td>ISCED 3A, ISCED 4</td>\n",
       "      <td>ISCED 3A, ISCED 4</td>\n",
       "      <td>NaN</td>\n",
       "      <td>Native</td>\n",
       "      <td>-1.17</td>\n",
       "      <td>NaN</td>\n",
       "      <td>NaN</td>\n",
       "      <td>NaN</td>\n",
       "      <td>311.7707</td>\n",
       "      <td>381.9209</td>\n",
       "      <td>361.5628</td>\n",
       "      <td>8.4871</td>\n",
       "      <td>2646.029108</td>\n",
       "      <td>3241.400870</td>\n",
       "      <td>3068.619640</td>\n",
       "      <td>True</td>\n",
       "      <td>True</td>\n",
       "    </tr>\n",
       "  </tbody>\n",
       "</table>\n",
       "</div>"
      ],
      "text/plain": [
       "   record_id  country      OECD  STID  gender H_mother H_father          ed_mother          ed_father        highest_edu  highest_occu   IMMIG  WEALTH  guided_omework  tutor  commercial_company  read_score  math_score  sci_score  WEIGHT    readscore    mathscore     sciscore  parent_athome  sibling_athome\n",
       "0          0  Albania  Non-OECD     1  Female      Yes      Yes  ISCED 3A, ISCED 4  ISCED 3A, ISCED 4  ISCED 3A, ISCED 4           NaN  Native   -2.92             NaN    NaN                 NaN    249.5762    406.8469   341.7009  8.9096  2223.624112  3624.843140  3044.418339           True            True\n",
       "1          1  Albania  Non-OECD     2  Female      Yes      Yes        ISCED 5A, 6  ISCED 3A, ISCED 4        ISCED 5A, 6           NaN  Native    0.69             NaN    6.0                 0.0    406.2936    486.1427   548.9929  8.9096  3619.913459  4331.337000  4891.307142           True            True\n",
       "2          2  Albania  Non-OECD     3  Female      Yes      Yes        ISCED 5A, 6        ISCED 5A, 6        ISCED 5A, 6           NaN  Native   -0.23             6.0    6.0                 7.0    401.2100    533.2684   499.6643  8.4871  3405.109391  4525.902238  4240.700881           True            True\n",
       "3          3  Albania  Non-OECD     4  Female      Yes      Yes        ISCED 3B, C        ISCED 5A, 6        ISCED 5A, 6           NaN  Native   -1.17             2.0    2.0                 0.0    547.3630    412.2215   438.6796  8.4871  4645.524517  3498.565093  3723.117633           True            True\n",
       "4          4  Albania  Non-OECD     5  Female      Yes      Yes               None  ISCED 3A, ISCED 4  ISCED 3A, ISCED 4           NaN  Native   -1.17             NaN    NaN                 NaN    311.7707    381.9209   361.5628  8.4871  2646.029108  3241.400870  3068.619640           True            True"
      ]
     },
     "execution_count": 161,
     "metadata": {},
     "output_type": "execute_result"
    }
   ],
   "source": [
    "data.head()"
   ]
  },
  {
   "cell_type": "code",
   "execution_count": 5,
   "metadata": {},
   "outputs": [],
   "source": [
    "data = pd.read_csv(\"data.csv\")"
   ]
  },
  {
   "cell_type": "code",
   "execution_count": 26,
   "metadata": {},
   "outputs": [],
   "source": [
    "data.rename(columns={\"Unnamed: 0\": 'record_id'}, inplace=True)"
   ]
  },
  {
   "cell_type": "code",
   "execution_count": 162,
   "metadata": {},
   "outputs": [
    {
     "data": {
      "text/plain": [
       "['record_id',\n",
       " 'country',\n",
       " 'OECD',\n",
       " 'STID',\n",
       " 'gender',\n",
       " 'H_mother',\n",
       " 'H_father',\n",
       " 'ed_mother',\n",
       " 'ed_father',\n",
       " 'highest_edu',\n",
       " 'highest_occu',\n",
       " 'IMMIG',\n",
       " 'WEALTH',\n",
       " 'guided_omework',\n",
       " 'tutor',\n",
       " 'commercial_company',\n",
       " 'read_score',\n",
       " 'math_score',\n",
       " 'sci_score',\n",
       " 'WEIGHT',\n",
       " 'readscore',\n",
       " 'mathscore',\n",
       " 'sciscore',\n",
       " 'parent_athome',\n",
       " 'sibling_athome']"
      ]
     },
     "execution_count": 162,
     "metadata": {},
     "output_type": "execute_result"
    }
   ],
   "source": [
    "list(data)"
   ]
  },
  {
   "cell_type": "code",
   "execution_count": 163,
   "metadata": {},
   "outputs": [],
   "source": [
    "data = data.drop(columns=['readscore', 'mathscore', 'sciscore'])"
   ]
  },
  {
   "cell_type": "code",
   "execution_count": null,
   "metadata": {},
   "outputs": [],
   "source": []
  },
  {
   "cell_type": "code",
   "execution_count": 160,
   "metadata": {},
   "outputs": [
    {
     "data": {
      "text/html": [
       "<div>\n",
       "<style scoped>\n",
       "    .dataframe tbody tr th:only-of-type {\n",
       "        vertical-align: middle;\n",
       "    }\n",
       "\n",
       "    .dataframe tbody tr th {\n",
       "        vertical-align: top;\n",
       "    }\n",
       "\n",
       "    .dataframe thead th {\n",
       "        text-align: right;\n",
       "    }\n",
       "</style>\n",
       "<table border=\"1\" class=\"dataframe\">\n",
       "  <thead>\n",
       "    <tr style=\"text-align: right;\">\n",
       "      <th></th>\n",
       "      <th>read_score</th>\n",
       "      <th>math_score</th>\n",
       "      <th>sci_score</th>\n",
       "      <th>average_score</th>\n",
       "    </tr>\n",
       "    <tr>\n",
       "      <th>country</th>\n",
       "      <th></th>\n",
       "      <th></th>\n",
       "      <th></th>\n",
       "      <th></th>\n",
       "    </tr>\n",
       "  </thead>\n",
       "  <tbody>\n",
       "    <tr>\n",
       "      <th>Albania</th>\n",
       "      <td>394.355724</td>\n",
       "      <td>394.633657</td>\n",
       "      <td>397.526623</td>\n",
       "      <td>395.505335</td>\n",
       "    </tr>\n",
       "    <tr>\n",
       "      <th>Argentina</th>\n",
       "      <td>396.120641</td>\n",
       "      <td>388.497144</td>\n",
       "      <td>405.520516</td>\n",
       "      <td>396.712767</td>\n",
       "    </tr>\n",
       "    <tr>\n",
       "      <th>Australia</th>\n",
       "      <td>511.730340</td>\n",
       "      <td>503.824073</td>\n",
       "      <td>521.021670</td>\n",
       "      <td>512.192028</td>\n",
       "    </tr>\n",
       "    <tr>\n",
       "      <th>Austria</th>\n",
       "      <td>489.058999</td>\n",
       "      <td>505.618505</td>\n",
       "      <td>504.915319</td>\n",
       "      <td>499.864274</td>\n",
       "    </tr>\n",
       "    <tr>\n",
       "      <th>Belgium</th>\n",
       "      <td>509.108529</td>\n",
       "      <td>514.961445</td>\n",
       "      <td>505.582224</td>\n",
       "      <td>509.884066</td>\n",
       "    </tr>\n",
       "    <tr>\n",
       "      <th>Brazil</th>\n",
       "      <td>406.380191</td>\n",
       "      <td>388.479296</td>\n",
       "      <td>401.626365</td>\n",
       "      <td>398.828617</td>\n",
       "    </tr>\n",
       "    <tr>\n",
       "      <th>Bulgaria</th>\n",
       "      <td>436.656390</td>\n",
       "      <td>438.444905</td>\n",
       "      <td>446.487741</td>\n",
       "      <td>440.529679</td>\n",
       "    </tr>\n",
       "    <tr>\n",
       "      <th>...</th>\n",
       "      <td>...</td>\n",
       "      <td>...</td>\n",
       "      <td>...</td>\n",
       "      <td>...</td>\n",
       "    </tr>\n",
       "    <tr>\n",
       "      <th>Tunisia</th>\n",
       "      <td>404.177728</td>\n",
       "      <td>387.637954</td>\n",
       "      <td>397.751528</td>\n",
       "      <td>396.522403</td>\n",
       "    </tr>\n",
       "    <tr>\n",
       "      <th>Turkey</th>\n",
       "      <td>475.013729</td>\n",
       "      <td>447.398909</td>\n",
       "      <td>463.127168</td>\n",
       "      <td>461.846602</td>\n",
       "    </tr>\n",
       "    <tr>\n",
       "      <th>United Arab Emirates</th>\n",
       "      <td>441.521632</td>\n",
       "      <td>433.874811</td>\n",
       "      <td>448.569731</td>\n",
       "      <td>441.322058</td>\n",
       "    </tr>\n",
       "    <tr>\n",
       "      <th>United Kingdom</th>\n",
       "      <td>499.722660</td>\n",
       "      <td>493.972061</td>\n",
       "      <td>514.461308</td>\n",
       "      <td>502.718676</td>\n",
       "    </tr>\n",
       "    <tr>\n",
       "      <th>United States of America</th>\n",
       "      <td>497.020097</td>\n",
       "      <td>480.715365</td>\n",
       "      <td>497.194147</td>\n",
       "      <td>491.643203</td>\n",
       "    </tr>\n",
       "    <tr>\n",
       "      <th>Uruguay</th>\n",
       "      <td>411.645412</td>\n",
       "      <td>409.094722</td>\n",
       "      <td>416.208583</td>\n",
       "      <td>412.316239</td>\n",
       "    </tr>\n",
       "    <tr>\n",
       "      <th>Vietnam</th>\n",
       "      <td>508.166422</td>\n",
       "      <td>511.185478</td>\n",
       "      <td>528.485626</td>\n",
       "      <td>515.945842</td>\n",
       "    </tr>\n",
       "  </tbody>\n",
       "</table>\n",
       "<p>64 rows × 4 columns</p>\n",
       "</div>"
      ],
      "text/plain": [
       "                          read_score  math_score   sci_score  average_score\n",
       "country                                                                    \n",
       "Albania                   394.355724  394.633657  397.526623     395.505335\n",
       "Argentina                 396.120641  388.497144  405.520516     396.712767\n",
       "Australia                 511.730340  503.824073  521.021670     512.192028\n",
       "Austria                   489.058999  505.618505  504.915319     499.864274\n",
       "Belgium                   509.108529  514.961445  505.582224     509.884066\n",
       "Brazil                    406.380191  388.479296  401.626365     398.828617\n",
       "Bulgaria                  436.656390  438.444905  446.487741     440.529679\n",
       "...                              ...         ...         ...            ...\n",
       "Tunisia                   404.177728  387.637954  397.751528     396.522403\n",
       "Turkey                    475.013729  447.398909  463.127168     461.846602\n",
       "United Arab Emirates      441.521632  433.874811  448.569731     441.322058\n",
       "United Kingdom            499.722660  493.972061  514.461308     502.718676\n",
       "United States of America  497.020097  480.715365  497.194147     491.643203\n",
       "Uruguay                   411.645412  409.094722  416.208583     412.316239\n",
       "Vietnam                   508.166422  511.185478  528.485626     515.945842\n",
       "\n",
       "[64 rows x 4 columns]"
      ]
     },
     "execution_count": 160,
     "metadata": {},
     "output_type": "execute_result"
    }
   ],
   "source": [
    "# Define a lambda function to compute the weighted mean:\n",
    "wm = lambda x: np.average(x, weights=data.loc[x.index, \"WEIGHT\"])\n",
    "\n",
    "# creat a GroupBy\n",
    "g = data.groupby(['country'])\n",
    "\n",
    "country_scores = g[['read_score', 'math_score', 'sci_score']].agg(wm)\n",
    "country_scores['average_score'] = country_scores.mean(numeric_only=True, axis=1)\n"
   ]
  },
  {
   "cell_type": "code",
   "execution_count": 167,
   "metadata": {},
   "outputs": [],
   "source": [
    "country_scores.to_csv('country_scores.csv')"
   ]
  },
  {
   "cell_type": "code",
   "execution_count": null,
   "metadata": {},
   "outputs": [],
   "source": []
  },
  {
   "cell_type": "code",
   "execution_count": 43,
   "metadata": {},
   "outputs": [],
   "source": [
    "cond_sibling = data['H_brothers'].isin([\"Yes\"]) | data['H_sisters'].isin([\"Yes\"])\n",
    "cond_parent = data['H_mother'].isin([\"Yes\"]) | data['H_father'].isin([\"Yes\"])"
   ]
  },
  {
   "cell_type": "code",
   "execution_count": 49,
   "metadata": {},
   "outputs": [],
   "source": [
    "data['parent_athome'] = cond_parent\n",
    "data['sibling_athome'] = cond_sibling"
   ]
  },
  {
   "cell_type": "code",
   "execution_count": 174,
   "metadata": {},
   "outputs": [],
   "source": [
    "data.rename(columns={\"guided_omework\": 'guided_homework'}, inplace=True)"
   ]
  },
  {
   "cell_type": "code",
   "execution_count": 175,
   "metadata": {},
   "outputs": [
    {
     "name": "stdout",
     "output_type": "stream",
     "text": [
      "<class 'pandas.core.frame.DataFrame'>\n",
      "Int64Index: 478413 entries, 0 to 485489\n",
      "Data columns (total 22 columns):\n",
      "record_id             478413 non-null int64\n",
      "country               478413 non-null object\n",
      "OECD                  478413 non-null object\n",
      "STID                  478413 non-null int64\n",
      "gender                478413 non-null object\n",
      "H_mother              453716 non-null object\n",
      "H_father              434625 non-null object\n",
      "ed_mother             460185 non-null object\n",
      "ed_father             446469 non-null object\n",
      "highest_edu           466140 non-null object\n",
      "highest_occu          443896 non-null float64\n",
      "IMMIG                 464877 non-null object\n",
      "WEALTH                472545 non-null float64\n",
      "guided_homework       265532 non-null float64\n",
      "tutor                 279387 non-null float64\n",
      "commercial_company    275245 non-null float64\n",
      "read_score            478413 non-null float64\n",
      "math_score            478413 non-null float64\n",
      "sci_score             478413 non-null float64\n",
      "WEIGHT                478413 non-null float64\n",
      "parent_athome         478413 non-null bool\n",
      "sibling_athome        478413 non-null bool\n",
      "dtypes: bool(2), float64(9), int64(2), object(9)\n",
      "memory usage: 77.6+ MB\n"
     ]
    }
   ],
   "source": [
    "data.info()"
   ]
  },
  {
   "cell_type": "code",
   "execution_count": 220,
   "metadata": {},
   "outputs": [],
   "source": [
    "data[\"total_extra_support\"] = data['tutor'] + data['guided_homework'] + data['commercial_company']"
   ]
  },
  {
   "cell_type": "code",
   "execution_count": 222,
   "metadata": {},
   "outputs": [
    {
     "data": {
      "text/plain": [
       "count    244902.000000\n",
       "mean          3.168647\n",
       "std           4.896479\n",
       "min           0.000000\n",
       "25%           0.000000\n",
       "50%           2.000000\n",
       "75%           4.000000\n",
       "max          90.000000\n",
       "Name: total_extra_support, dtype: float64"
      ]
     },
     "execution_count": 222,
     "metadata": {},
     "output_type": "execute_result"
    }
   ],
   "source": [
    "data[\"total_extra_support\"].describe()"
   ]
  },
  {
   "cell_type": "code",
   "execution_count": 230,
   "metadata": {},
   "outputs": [
    {
     "data": {
      "text/plain": [
       "0            NaN\n",
       "1            NaN\n",
       "2           high\n",
       "3            low\n",
       "4            NaN\n",
       "5           high\n",
       "6         medium\n",
       "           ...  \n",
       "485483      high\n",
       "485484       NaN\n",
       "485485       NaN\n",
       "485486       NaN\n",
       "485487       NaN\n",
       "485488       low\n",
       "485489       NaN\n",
       "Name: total_extra_support, Length: 478413, dtype: category\n",
       "Categories (4, object): [very_low < low < medium < high]"
      ]
     },
     "execution_count": 230,
     "metadata": {},
     "output_type": "execute_result"
    }
   ],
   "source": [
    "pd.cut(data[\"total_extra_support\"], [0,2,5,10,90], right= False, include_lowest=False, labels=[\"very_low\", \"low\",\n",
    "                                                                                               \"medium\", \"high\"])"
   ]
  },
  {
   "cell_type": "code",
   "execution_count": 231,
   "metadata": {},
   "outputs": [],
   "source": [
    "new_data = data.copy()"
   ]
  },
  {
   "cell_type": "code",
   "execution_count": 234,
   "metadata": {},
   "outputs": [],
   "source": [
    "cols_with_missing = (col for col in new_data.columns \n",
    "                                 if new_data[col].isnull().any())"
   ]
  },
  {
   "cell_type": "code",
   "execution_count": 235,
   "metadata": {},
   "outputs": [
    {
     "data": {
      "text/plain": [
       "<generator object <genexpr> at 0x0000024A04EE2EB8>"
      ]
     },
     "execution_count": 235,
     "metadata": {},
     "output_type": "execute_result"
    }
   ],
   "source": [
    "cols_with_missing"
   ]
  },
  {
   "cell_type": "code",
   "execution_count": 236,
   "metadata": {},
   "outputs": [],
   "source": [
    "reduced_X_train = new_data.drop(cols_with_missing, axis=1)"
   ]
  },
  {
   "cell_type": "code",
   "execution_count": 237,
   "metadata": {},
   "outputs": [
    {
     "data": {
      "text/html": [
       "<div>\n",
       "<style scoped>\n",
       "    .dataframe tbody tr th:only-of-type {\n",
       "        vertical-align: middle;\n",
       "    }\n",
       "\n",
       "    .dataframe tbody tr th {\n",
       "        vertical-align: top;\n",
       "    }\n",
       "\n",
       "    .dataframe thead th {\n",
       "        text-align: right;\n",
       "    }\n",
       "</style>\n",
       "<table border=\"1\" class=\"dataframe\">\n",
       "  <thead>\n",
       "    <tr style=\"text-align: right;\">\n",
       "      <th></th>\n",
       "      <th>record_id</th>\n",
       "      <th>country</th>\n",
       "      <th>OECD</th>\n",
       "      <th>STID</th>\n",
       "      <th>gender</th>\n",
       "      <th>read_score</th>\n",
       "      <th>math_score</th>\n",
       "      <th>sci_score</th>\n",
       "      <th>WEIGHT</th>\n",
       "      <th>parent_athome</th>\n",
       "      <th>sibling_athome</th>\n",
       "    </tr>\n",
       "  </thead>\n",
       "  <tbody>\n",
       "    <tr>\n",
       "      <th>0</th>\n",
       "      <td>0</td>\n",
       "      <td>Albania</td>\n",
       "      <td>Non-OECD</td>\n",
       "      <td>1</td>\n",
       "      <td>Female</td>\n",
       "      <td>249.5762</td>\n",
       "      <td>406.8469</td>\n",
       "      <td>341.7009</td>\n",
       "      <td>8.9096</td>\n",
       "      <td>True</td>\n",
       "      <td>True</td>\n",
       "    </tr>\n",
       "    <tr>\n",
       "      <th>1</th>\n",
       "      <td>1</td>\n",
       "      <td>Albania</td>\n",
       "      <td>Non-OECD</td>\n",
       "      <td>2</td>\n",
       "      <td>Female</td>\n",
       "      <td>406.2936</td>\n",
       "      <td>486.1427</td>\n",
       "      <td>548.9929</td>\n",
       "      <td>8.9096</td>\n",
       "      <td>True</td>\n",
       "      <td>True</td>\n",
       "    </tr>\n",
       "    <tr>\n",
       "      <th>2</th>\n",
       "      <td>2</td>\n",
       "      <td>Albania</td>\n",
       "      <td>Non-OECD</td>\n",
       "      <td>3</td>\n",
       "      <td>Female</td>\n",
       "      <td>401.2100</td>\n",
       "      <td>533.2684</td>\n",
       "      <td>499.6643</td>\n",
       "      <td>8.4871</td>\n",
       "      <td>True</td>\n",
       "      <td>True</td>\n",
       "    </tr>\n",
       "    <tr>\n",
       "      <th>3</th>\n",
       "      <td>3</td>\n",
       "      <td>Albania</td>\n",
       "      <td>Non-OECD</td>\n",
       "      <td>4</td>\n",
       "      <td>Female</td>\n",
       "      <td>547.3630</td>\n",
       "      <td>412.2215</td>\n",
       "      <td>438.6796</td>\n",
       "      <td>8.4871</td>\n",
       "      <td>True</td>\n",
       "      <td>True</td>\n",
       "    </tr>\n",
       "    <tr>\n",
       "      <th>4</th>\n",
       "      <td>4</td>\n",
       "      <td>Albania</td>\n",
       "      <td>Non-OECD</td>\n",
       "      <td>5</td>\n",
       "      <td>Female</td>\n",
       "      <td>311.7707</td>\n",
       "      <td>381.9209</td>\n",
       "      <td>361.5628</td>\n",
       "      <td>8.4871</td>\n",
       "      <td>True</td>\n",
       "      <td>True</td>\n",
       "    </tr>\n",
       "    <tr>\n",
       "      <th>5</th>\n",
       "      <td>5</td>\n",
       "      <td>Albania</td>\n",
       "      <td>Non-OECD</td>\n",
       "      <td>6</td>\n",
       "      <td>Female</td>\n",
       "      <td>378.2544</td>\n",
       "      <td>396.3312</td>\n",
       "      <td>384.3156</td>\n",
       "      <td>8.4871</td>\n",
       "      <td>True</td>\n",
       "      <td>True</td>\n",
       "    </tr>\n",
       "    <tr>\n",
       "      <th>6</th>\n",
       "      <td>6</td>\n",
       "      <td>Albania</td>\n",
       "      <td>Non-OECD</td>\n",
       "      <td>7</td>\n",
       "      <td>Female</td>\n",
       "      <td>373.2503</td>\n",
       "      <td>438.0823</td>\n",
       "      <td>508.1499</td>\n",
       "      <td>8.9096</td>\n",
       "      <td>True</td>\n",
       "      <td>True</td>\n",
       "    </tr>\n",
       "    <tr>\n",
       "      <th>...</th>\n",
       "      <td>...</td>\n",
       "      <td>...</td>\n",
       "      <td>...</td>\n",
       "      <td>...</td>\n",
       "      <td>...</td>\n",
       "      <td>...</td>\n",
       "      <td>...</td>\n",
       "      <td>...</td>\n",
       "      <td>...</td>\n",
       "      <td>...</td>\n",
       "      <td>...</td>\n",
       "    </tr>\n",
       "    <tr>\n",
       "      <th>485483</th>\n",
       "      <td>485483</td>\n",
       "      <td>Vietnam</td>\n",
       "      <td>Non-OECD</td>\n",
       "      <td>4953</td>\n",
       "      <td>Female</td>\n",
       "      <td>482.3090</td>\n",
       "      <td>526.1022</td>\n",
       "      <td>533.4204</td>\n",
       "      <td>62.4825</td>\n",
       "      <td>True</td>\n",
       "      <td>True</td>\n",
       "    </tr>\n",
       "    <tr>\n",
       "      <th>485484</th>\n",
       "      <td>485484</td>\n",
       "      <td>Vietnam</td>\n",
       "      <td>Non-OECD</td>\n",
       "      <td>4954</td>\n",
       "      <td>Male</td>\n",
       "      <td>433.8340</td>\n",
       "      <td>500.4752</td>\n",
       "      <td>480.6416</td>\n",
       "      <td>65.7647</td>\n",
       "      <td>True</td>\n",
       "      <td>True</td>\n",
       "    </tr>\n",
       "    <tr>\n",
       "      <th>485485</th>\n",
       "      <td>485485</td>\n",
       "      <td>Vietnam</td>\n",
       "      <td>Non-OECD</td>\n",
       "      <td>4955</td>\n",
       "      <td>Female</td>\n",
       "      <td>460.2272</td>\n",
       "      <td>477.1849</td>\n",
       "      <td>559.8098</td>\n",
       "      <td>62.4825</td>\n",
       "      <td>True</td>\n",
       "      <td>True</td>\n",
       "    </tr>\n",
       "    <tr>\n",
       "      <th>485486</th>\n",
       "      <td>485486</td>\n",
       "      <td>Vietnam</td>\n",
       "      <td>Non-OECD</td>\n",
       "      <td>4956</td>\n",
       "      <td>Male</td>\n",
       "      <td>490.9325</td>\n",
       "      <td>518.9360</td>\n",
       "      <td>538.7355</td>\n",
       "      <td>65.7647</td>\n",
       "      <td>True</td>\n",
       "      <td>True</td>\n",
       "    </tr>\n",
       "    <tr>\n",
       "      <th>485487</th>\n",
       "      <td>485487</td>\n",
       "      <td>Vietnam</td>\n",
       "      <td>Non-OECD</td>\n",
       "      <td>4957</td>\n",
       "      <td>Male</td>\n",
       "      <td>462.6239</td>\n",
       "      <td>475.2376</td>\n",
       "      <td>536.8706</td>\n",
       "      <td>65.7647</td>\n",
       "      <td>True</td>\n",
       "      <td>True</td>\n",
       "    </tr>\n",
       "    <tr>\n",
       "      <th>485488</th>\n",
       "      <td>485488</td>\n",
       "      <td>Vietnam</td>\n",
       "      <td>Non-OECD</td>\n",
       "      <td>4958</td>\n",
       "      <td>Male</td>\n",
       "      <td>505.2873</td>\n",
       "      <td>550.9503</td>\n",
       "      <td>511.0407</td>\n",
       "      <td>65.7647</td>\n",
       "      <td>True</td>\n",
       "      <td>True</td>\n",
       "    </tr>\n",
       "    <tr>\n",
       "      <th>485489</th>\n",
       "      <td>485489</td>\n",
       "      <td>Vietnam</td>\n",
       "      <td>Non-OECD</td>\n",
       "      <td>4959</td>\n",
       "      <td>Female</td>\n",
       "      <td>532.3506</td>\n",
       "      <td>470.0187</td>\n",
       "      <td>530.6229</td>\n",
       "      <td>62.4825</td>\n",
       "      <td>True</td>\n",
       "      <td>True</td>\n",
       "    </tr>\n",
       "  </tbody>\n",
       "</table>\n",
       "<p>478413 rows × 11 columns</p>\n",
       "</div>"
      ],
      "text/plain": [
       "        record_id  country      OECD  STID  gender  read_score  math_score  sci_score   WEIGHT  parent_athome  sibling_athome\n",
       "0               0  Albania  Non-OECD     1  Female    249.5762    406.8469   341.7009   8.9096           True            True\n",
       "1               1  Albania  Non-OECD     2  Female    406.2936    486.1427   548.9929   8.9096           True            True\n",
       "2               2  Albania  Non-OECD     3  Female    401.2100    533.2684   499.6643   8.4871           True            True\n",
       "3               3  Albania  Non-OECD     4  Female    547.3630    412.2215   438.6796   8.4871           True            True\n",
       "4               4  Albania  Non-OECD     5  Female    311.7707    381.9209   361.5628   8.4871           True            True\n",
       "5               5  Albania  Non-OECD     6  Female    378.2544    396.3312   384.3156   8.4871           True            True\n",
       "6               6  Albania  Non-OECD     7  Female    373.2503    438.0823   508.1499   8.9096           True            True\n",
       "...           ...      ...       ...   ...     ...         ...         ...        ...      ...            ...             ...\n",
       "485483     485483  Vietnam  Non-OECD  4953  Female    482.3090    526.1022   533.4204  62.4825           True            True\n",
       "485484     485484  Vietnam  Non-OECD  4954    Male    433.8340    500.4752   480.6416  65.7647           True            True\n",
       "485485     485485  Vietnam  Non-OECD  4955  Female    460.2272    477.1849   559.8098  62.4825           True            True\n",
       "485486     485486  Vietnam  Non-OECD  4956    Male    490.9325    518.9360   538.7355  65.7647           True            True\n",
       "485487     485487  Vietnam  Non-OECD  4957    Male    462.6239    475.2376   536.8706  65.7647           True            True\n",
       "485488     485488  Vietnam  Non-OECD  4958    Male    505.2873    550.9503   511.0407  65.7647           True            True\n",
       "485489     485489  Vietnam  Non-OECD  4959  Female    532.3506    470.0187   530.6229  62.4825           True            True\n",
       "\n",
       "[478413 rows x 11 columns]"
      ]
     },
     "execution_count": 237,
     "metadata": {},
     "output_type": "execute_result"
    }
   ],
   "source": [
    "reduced_X_train"
   ]
  },
  {
   "cell_type": "code",
   "execution_count": 239,
   "metadata": {},
   "outputs": [
    {
     "ename": "AttributeError",
     "evalue": "Can only use .cat accessor with a 'category' dtype",
     "output_type": "error",
     "traceback": [
      "\u001b[1;31m---------------------------------------------------------------------------\u001b[0m",
      "\u001b[1;31mAttributeError\u001b[0m                            Traceback (most recent call last)",
      "\u001b[1;32m<ipython-input-239-8beba8dc6243>\u001b[0m in \u001b[0;36m<module>\u001b[1;34m()\u001b[0m\n\u001b[1;32m----> 1\u001b[1;33m \u001b[0mnew_data\u001b[0m\u001b[1;33m.\u001b[0m\u001b[0mcountry\u001b[0m\u001b[1;33m.\u001b[0m\u001b[0mcat\u001b[0m\u001b[1;33m\u001b[0m\u001b[0m\n\u001b[0m",
      "\u001b[1;32m~\\Anaconda3\\lib\\site-packages\\pandas\\core\\generic.py\u001b[0m in \u001b[0;36m__getattr__\u001b[1;34m(self, name)\u001b[0m\n\u001b[0;32m   3608\u001b[0m         if (name in self._internal_names_set or name in self._metadata or\n\u001b[0;32m   3609\u001b[0m                 name in self._accessors):\n\u001b[1;32m-> 3610\u001b[1;33m             \u001b[1;32mreturn\u001b[0m \u001b[0mobject\u001b[0m\u001b[1;33m.\u001b[0m\u001b[0m__getattribute__\u001b[0m\u001b[1;33m(\u001b[0m\u001b[0mself\u001b[0m\u001b[1;33m,\u001b[0m \u001b[0mname\u001b[0m\u001b[1;33m)\u001b[0m\u001b[1;33m\u001b[0m\u001b[0m\n\u001b[0m\u001b[0;32m   3611\u001b[0m         \u001b[1;32melse\u001b[0m\u001b[1;33m:\u001b[0m\u001b[1;33m\u001b[0m\u001b[0m\n\u001b[0;32m   3612\u001b[0m             \u001b[1;32mif\u001b[0m \u001b[0mname\u001b[0m \u001b[1;32min\u001b[0m \u001b[0mself\u001b[0m\u001b[1;33m.\u001b[0m\u001b[0m_info_axis\u001b[0m\u001b[1;33m:\u001b[0m\u001b[1;33m\u001b[0m\u001b[0m\n",
      "\u001b[1;32m~\\Anaconda3\\lib\\site-packages\\pandas\\core\\accessor.py\u001b[0m in \u001b[0;36m__get__\u001b[1;34m(self, instance, owner)\u001b[0m\n\u001b[0;32m     52\u001b[0m             \u001b[1;31m# this ensures that Series.str.<method> is well defined\u001b[0m\u001b[1;33m\u001b[0m\u001b[1;33m\u001b[0m\u001b[0m\n\u001b[0;32m     53\u001b[0m             \u001b[1;32mreturn\u001b[0m \u001b[0mself\u001b[0m\u001b[1;33m.\u001b[0m\u001b[0maccessor_cls\u001b[0m\u001b[1;33m\u001b[0m\u001b[0m\n\u001b[1;32m---> 54\u001b[1;33m         \u001b[1;32mreturn\u001b[0m \u001b[0mself\u001b[0m\u001b[1;33m.\u001b[0m\u001b[0mconstruct_accessor\u001b[0m\u001b[1;33m(\u001b[0m\u001b[0minstance\u001b[0m\u001b[1;33m)\u001b[0m\u001b[1;33m\u001b[0m\u001b[0m\n\u001b[0m\u001b[0;32m     55\u001b[0m \u001b[1;33m\u001b[0m\u001b[0m\n\u001b[0;32m     56\u001b[0m     \u001b[1;32mdef\u001b[0m \u001b[0m__set__\u001b[0m\u001b[1;33m(\u001b[0m\u001b[0mself\u001b[0m\u001b[1;33m,\u001b[0m \u001b[0minstance\u001b[0m\u001b[1;33m,\u001b[0m \u001b[0mvalue\u001b[0m\u001b[1;33m)\u001b[0m\u001b[1;33m:\u001b[0m\u001b[1;33m\u001b[0m\u001b[0m\n",
      "\u001b[1;32m~\\Anaconda3\\lib\\site-packages\\pandas\\core\\categorical.py\u001b[0m in \u001b[0;36m_make_accessor\u001b[1;34m(cls, data)\u001b[0m\n\u001b[0;32m   2209\u001b[0m     \u001b[1;32mdef\u001b[0m \u001b[0m_make_accessor\u001b[0m\u001b[1;33m(\u001b[0m\u001b[0mcls\u001b[0m\u001b[1;33m,\u001b[0m \u001b[0mdata\u001b[0m\u001b[1;33m)\u001b[0m\u001b[1;33m:\u001b[0m\u001b[1;33m\u001b[0m\u001b[0m\n\u001b[0;32m   2210\u001b[0m         \u001b[1;32mif\u001b[0m \u001b[1;32mnot\u001b[0m \u001b[0mis_categorical_dtype\u001b[0m\u001b[1;33m(\u001b[0m\u001b[0mdata\u001b[0m\u001b[1;33m.\u001b[0m\u001b[0mdtype\u001b[0m\u001b[1;33m)\u001b[0m\u001b[1;33m:\u001b[0m\u001b[1;33m\u001b[0m\u001b[0m\n\u001b[1;32m-> 2211\u001b[1;33m             raise AttributeError(\"Can only use .cat accessor with a \"\n\u001b[0m\u001b[0;32m   2212\u001b[0m                                  \"'category' dtype\")\n\u001b[0;32m   2213\u001b[0m         return CategoricalAccessor(data.values, data.index,\n",
      "\u001b[1;31mAttributeError\u001b[0m: Can only use .cat accessor with a 'category' dtype"
     ]
    }
   ],
   "source": [
    "new_data.country.cat.categories"
   ]
  },
  {
   "cell_type": "code",
   "execution_count": 176,
   "metadata": {},
   "outputs": [],
   "source": [
    "data.to_csv(\"data.csv\")"
   ]
  },
  {
   "cell_type": "code",
   "execution_count": 240,
   "metadata": {},
   "outputs": [
    {
     "data": {
      "text/plain": [
       "0         False\n",
       "1         False\n",
       "2          True\n",
       "3          True\n",
       "4         False\n",
       "5          True\n",
       "6          True\n",
       "          ...  \n",
       "485483     True\n",
       "485484    False\n",
       "485485    False\n",
       "485486    False\n",
       "485487    False\n",
       "485488     True\n",
       "485489    False\n",
       "Name: total_extra_support, Length: 478413, dtype: bool"
      ]
     },
     "execution_count": 240,
     "metadata": {},
     "output_type": "execute_result"
    }
   ],
   "source": [
    "pd.notnull(data.total_extra_support)"
   ]
  },
  {
   "cell_type": "code",
   "execution_count": null,
   "metadata": {},
   "outputs": [],
   "source": [
    "wm = lambda x: mean(x=data.loc[x.index, \"WEIGHT\"])\n",
    "\n",
    "# creat a GroupBy\n",
    "g = data.groupby(['country'])\n",
    "\n",
    "country_scores = g[['read_score', 'math_score', 'sci_score']].agg(wm)\n",
    "country_scores['average_score'] = country_scores.mean(numeric_only=True, axis=1)"
   ]
  },
  {
   "cell_type": "code",
   "execution_count": null,
   "metadata": {},
   "outputs": [],
   "source": []
  },
  {
   "cell_type": "code",
   "execution_count": 194,
   "metadata": {},
   "outputs": [],
   "source": [
    "# creat a GroupBy\n",
    "g = data.groupby(['country'])\n",
    "\n",
    "country_academic_support = g[['tutor', 'guided_homework', 'commercial_company']].mean().dropna()\n",
    "country_academic_support['academic_support'] = country_academic_support.sum(numeric_only=True, axis=1)"
   ]
  },
  {
   "cell_type": "code",
   "execution_count": null,
   "metadata": {
    "scrolled": true
   },
   "outputs": [],
   "source": []
  },
  {
   "cell_type": "code",
   "execution_count": 210,
   "metadata": {},
   "outputs": [
    {
     "data": {
      "text/plain": [
       "290176"
      ]
     },
     "execution_count": 210,
     "metadata": {},
     "output_type": "execute_result"
    }
   ],
   "source": [
    "sum(data['tutor']!=0 )"
   ]
  },
  {
   "cell_type": "code",
   "execution_count": null,
   "metadata": {},
   "outputs": [],
   "source": []
  },
  {
   "cell_type": "code",
   "execution_count": 196,
   "metadata": {},
   "outputs": [],
   "source": [
    "country_academic_support.to_csv('country_academic_support.csv')"
   ]
  },
  {
   "cell_type": "code",
   "execution_count": null,
   "metadata": {},
   "outputs": [],
   "source": []
  },
  {
   "cell_type": "code",
   "execution_count": null,
   "metadata": {},
   "outputs": [],
   "source": []
  },
  {
   "cell_type": "code",
   "execution_count": null,
   "metadata": {},
   "outputs": [],
   "source": []
  },
  {
   "cell_type": "code",
   "execution_count": null,
   "metadata": {},
   "outputs": [],
   "source": []
  },
  {
   "cell_type": "code",
   "execution_count": null,
   "metadata": {},
   "outputs": [],
   "source": []
  },
  {
   "cell_type": "code",
   "execution_count": null,
   "metadata": {},
   "outputs": [],
   "source": []
  },
  {
   "cell_type": "code",
   "execution_count": null,
   "metadata": {},
   "outputs": [],
   "source": []
  },
  {
   "cell_type": "code",
   "execution_count": null,
   "metadata": {},
   "outputs": [],
   "source": []
  },
  {
   "cell_type": "code",
   "execution_count": null,
   "metadata": {},
   "outputs": [],
   "source": []
  }
 ],
 "metadata": {
  "kernelspec": {
   "display_name": "Python [conda env:Anaconda3]",
   "language": "python",
   "name": "conda-env-Anaconda3-py"
  },
  "language_info": {
   "codemirror_mode": {
    "name": "ipython",
    "version": 3
   },
   "file_extension": ".py",
   "mimetype": "text/x-python",
   "name": "python",
   "nbconvert_exporter": "python",
   "pygments_lexer": "ipython3",
   "version": "3.5.5"
  }
 },
 "nbformat": 4,
 "nbformat_minor": 2
}
